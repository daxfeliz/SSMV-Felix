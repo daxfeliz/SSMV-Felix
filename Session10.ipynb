{
 "cells": [
  {
   "cell_type": "code",
   "execution_count": 1,
   "metadata": {},
   "outputs": [],
   "source": [
    "import glob, os\n",
    "from os import listdir\n",
    "from os.path import isfile, join\n",
    "import fnmatch\n",
    "import matplotlib.pyplot as plt\n",
    "from matplotlib import pylab\n",
    "from pylab import *\n",
    "import numpy as np\n",
    "import pandas as pd\n",
    "import astropy"
   ]
  },
  {
   "cell_type": "code",
   "execution_count": 3,
   "metadata": {},
   "outputs": [
    {
     "name": "stdout",
     "output_type": "stream",
     "text": [
      "3.1.2\n"
     ]
    }
   ],
   "source": [
    "print(astropy.__version__)\n",
    "import lightkurve as lk\n",
    "\n",
    "import matplotlib.gridspec as gridspec"
   ]
  },
  {
   "cell_type": "code",
   "execution_count": 34,
   "metadata": {},
   "outputs": [
    {
     "name": "stdout",
     "output_type": "stream",
     "text": [
      "number of files:  1961\n"
     ]
    }
   ],
   "source": [
    "#------------------------------Finding Downloaded TESS Data Files --------------------------------------\n",
    "path = '/Users/felizd/Desktop/Felix/TESSdata/' #location of where I put downloaded files\n",
    "path = '/Users/felizd/Desktop/Felix/TESSdata/' #location of where I put downloaded files\n",
    "\n",
    "data = [os.path.join(dirpath, f) # an array of path names to be looped over\n",
    "    for dirpath, dirnames, files in os.walk(path) #recursively searches through directory\n",
    "    for f in fnmatch.filter(files, '*.lc')] #finds every file (*) that ends with .lc\n",
    "\n",
    "print (\"number of files: \",len(data)) #number of files)\n",
    "\n",
    "# for d in range(len(data)):\n",
    "#     print (\"data set #\", d+1 ,\" : \", data[d]) #I added the d+1 because python does zero-indexing (https://en.wikipedia.org/wiki/Zero-based_numbering)\n",
    "#     print (\"\")"
   ]
  },
  {
   "cell_type": "code",
   "execution_count": 30,
   "metadata": {},
   "outputs": [
    {
     "name": "stdout",
     "output_type": "stream",
     "text": [
      "/Users/felizd/Desktop/Felix/TESSdata/Sector01/curves/clean/140689204_sector01_4_2.lc\n",
      "criterion:  0.000390015600624025\n",
      "3*std: 0.0063636230599857105\n"
     ]
    },
    {
     "data": {
      "image/png": "[encoded data removed]",
      "text/plain": [
       "<Figure size 432x288 with 1 Axes>"
      ]
     },
     "metadata": {
      "needs_background": "light"
     },
     "output_type": "display_data"
    }
   ],
   "source": [
    "Nsig=3; bin_size=5; window_size=201\n",
    "\n",
    "def ChauventsCriteron(x, y, mean=None, stdv=None):\n",
    "    from scipy.special import erfc\n",
    "    if mean is None:\n",
    "        mean = y.mean()           # Mean of incoming array y\n",
    "    if stdv is None:\n",
    "        stdv = y.std()            # Its standard deviation\n",
    "    N = len(y)                   # Lenght of incoming arrays\n",
    "    criterion = 1.0/(2*N)        # Chauvenet's criterion\n",
    "    d = abs(y-mean)/stdv         # Distance of a value to mean in stdv's\n",
    "    d /= 2.0**0.5                # The left and right tail threshold values\n",
    "    prob = erfc(d)               # Area normal dist.    \n",
    "    filter = prob >= criterion   # The 'accept' filter array with booleans\n",
    "    \n",
    "    xf = x[filter]; yf = y[filter]\n",
    "    print (\"criterion: \", criterion)\n",
    "    print (\"3*std:\", std(y))\n",
    "#     return filter                # Use boolean array outside this function\n",
    "    return xf,yf\n",
    "\n",
    "\n",
    "print(data[d])\n",
    "time     = np.transpose(np.loadtxt(data[d]))[0] #first  (zero indexing in python) column \n",
    "mag      = np.transpose(np.loadtxt(data[d]))[1] #second (zero indexing in python) column \n",
    "magerror = np.transpose(np.loadtxt(data[d]))[2] #third (zero indexing in python) column \n",
    "\n",
    "flux = 10.0**(mag/-2.5)/np.mean(10.0**(mag/-2.5))\n",
    "fluxerror = flux*(10.0**(magerror/2.5)-1.0)\n",
    "\n",
    "t2,f2 = ChauventsCriteron(time,flux)\n",
    "# print( len(mask))\n",
    "plt.plot(time,flux,'k.')\n",
    "plt.plot(t2,f2,'r.')\n",
    "plt.show()"
   ]
  },
  {
   "cell_type": "code",
   "execution_count": 27,
   "metadata": {},
   "outputs": [],
   "source": [
    "def ChauventsCriteron(x, y, z, mean=None, stdv=None):\n",
    "    from scipy.special import erfc\n",
    "    if mean is None:\n",
    "        mean = y.mean()           # Mean of incoming array y\n",
    "    if stdv is None:\n",
    "        stdv = y.std()            # Its standard deviation\n",
    "    N = len(y)                   # Lenght of incoming arrays\n",
    "    criterion = 1.0/(2*N)        # Chauvenet's criterion\n",
    "    d = abs(y-mean)/stdv         # Distance of a value to mean in stdv's\n",
    "    d /= 2.0**0.5                # The left and right tail threshold values\n",
    "    prob = erfc(d)               # Area normal dist.    \n",
    "    filter = prob >= criterion   # The 'accept' filter array with booleans\n",
    "    \n",
    "    xf = x[filter]; yf = y[filter]; zf=z[filter]\n",
    "    print (\"criterion: \", criterion)\n",
    "    print (\"3*std:\", std(y))\n",
    "#     return filter                # Use boolean array outside this function\n",
    "    return xf,yf,zf"
   ]
  },
  {
   "cell_type": "code",
   "execution_count": 35,
   "metadata": {},
   "outputs": [
    {
     "name": "stdout",
     "output_type": "stream",
     "text": [
      "run BLS\n",
      "criterion:  0.000390015600624025\n",
      "3*std: 0.00328762827463706\n"
     ]
    },
    {
     "ename": "ValueError",
     "evalue": "not enough values to unpack (expected 3, got 2)",
     "output_type": "error",
     "traceback": [
      "\u001b[0;31m---------------------------------------------------------------------------\u001b[0m",
      "\u001b[0;31mValueError\u001b[0m                                Traceback (most recent call last)",
      "\u001b[0;32m<ipython-input-35-4a4b1f7b11bd>\u001b[0m in \u001b[0;36m<module>\u001b[0;34m\u001b[0m\n\u001b[1;32m     13\u001b[0m \u001b[0;34m\u001b[0m\u001b[0m\n\u001b[1;32m     14\u001b[0m     \u001b[0;31m#removing outliers with Chauvenet's criterion\u001b[0m\u001b[0;34m\u001b[0m\u001b[0;34m\u001b[0m\u001b[0;34m\u001b[0m\u001b[0m\n\u001b[0;32m---> 15\u001b[0;31m     \u001b[0mt2\u001b[0m\u001b[0;34m,\u001b[0m\u001b[0mf2\u001b[0m\u001b[0;34m,\u001b[0m\u001b[0mfe2\u001b[0m \u001b[0;34m=\u001b[0m \u001b[0mChauventsCriteron\u001b[0m\u001b[0;34m(\u001b[0m\u001b[0mtime\u001b[0m\u001b[0;34m,\u001b[0m\u001b[0mflux\u001b[0m\u001b[0;34m,\u001b[0m\u001b[0mfluxerror\u001b[0m\u001b[0;34m)\u001b[0m\u001b[0;34m\u001b[0m\u001b[0;34m\u001b[0m\u001b[0m\n\u001b[0m\u001b[1;32m     16\u001b[0m     \u001b[0mlc\u001b[0m \u001b[0;34m=\u001b[0m \u001b[0mlk\u001b[0m\u001b[0;34m.\u001b[0m\u001b[0mLightCurve\u001b[0m\u001b[0;34m(\u001b[0m\u001b[0mt2\u001b[0m\u001b[0;34m,\u001b[0m\u001b[0mf2\u001b[0m\u001b[0;34m,\u001b[0m\u001b[0mfe2\u001b[0m\u001b[0;34m)\u001b[0m\u001b[0;34m\u001b[0m\u001b[0;34m\u001b[0m\u001b[0m\n\u001b[1;32m     17\u001b[0m     \u001b[0mdetrended_lc\u001b[0m \u001b[0;34m=\u001b[0m \u001b[0mlc\u001b[0m\u001b[0;34m.\u001b[0m\u001b[0mflatten\u001b[0m\u001b[0;34m(\u001b[0m\u001b[0mwindow_length\u001b[0m\u001b[0;34m=\u001b[0m\u001b[0mwindow_size\u001b[0m\u001b[0;34m)\u001b[0m\u001b[0;34m.\u001b[0m\u001b[0mbin\u001b[0m\u001b[0;34m(\u001b[0m\u001b[0mbinsize\u001b[0m\u001b[0;34m=\u001b[0m\u001b[0mbin_size\u001b[0m\u001b[0;34m)\u001b[0m\u001b[0;34m\u001b[0m\u001b[0;34m\u001b[0m\u001b[0m\n",
      "\u001b[0;31mValueError\u001b[0m: not enough values to unpack (expected 3, got 2)"
     ]
    }
   ],
   "source": [
    "print (\"run BLS\")\n",
    "from astropy.stats import BoxLeastSquares\n",
    "\n",
    "Nsig=3; bin_size=5; window_size=201; spacing=0.02\n",
    "# for d in range(len(data)): #creating a for loop to show light curve figures for all files\n",
    "for d in range(20): #creating a for loop to show light curve figures for all files    \n",
    "    time     = np.transpose(np.loadtxt(data[d]))[0] #first  (zero indexing in python) column \n",
    "    mag      = np.transpose(np.loadtxt(data[d]))[1] #second (zero indexing in python) column \n",
    "    magerror = np.transpose(np.loadtxt(data[d]))[2] #third (zero indexing in python) column \n",
    "    \n",
    "    flux = 10.0**(mag/-2.5)/np.mean(10.0**(mag/-2.5))\n",
    "    fluxerror = flux*(10.0**(magerror/2.5)-1.0)\n",
    "    \n",
    "    #removing outliers with Chauvenet's criterion\n",
    "    t2,f2,fe2 = ChauventsCriteron(time,flux,fluxerror)\n",
    "    lc = lk.LightCurve(t2,f2,fe2)\n",
    "    detrended_lc = lc.flatten(window_length=window_size).bin(binsize=bin_size)\n",
    "    \n",
    "    \n",
    "    #detrending\n",
    "#     lc = lk.LightCurve(time,flux,fluxerror)\n",
    "#     detrended_lc = lc.flatten(window_length=window_size).bin(binsize=bin_size).remove_outliers(sigma=Nsig,iters=None)\n",
    "    \n",
    "    #doing BLS search:\n",
    "    bls = BoxLeastSquares(detrended_lc.time, detrended_lc.flux, detrended_lc.flux_err)\n",
    "    periods = np.arange(0.23, (max(detrended_lc.time)-min(detrended_lc.time)), 0.1)\n",
    "    durations = np.arange((1.0/24.0), (5.0/24.0), 0.1) #1 hr to 5 hrs\n",
    "    periodogram = bls.power(periods, durations,objective='snr')\n",
    "    \n",
    "    #phase folding with best BLS model\n",
    "    index = np.argmax(periodogram.power); print(index)\n",
    "    best_period = periodogram.period[index]; print(best_period)\n",
    "    best_t0 = periodogram.transit_time[index]; print(best_t0)\n",
    "    detrendedphasefoldedlc = [detrended_lc.fold(period=best_period,t0=best_t0).phase,detrended_lc.fold(period=best_period,t0=best_t0).flux, detrended_lc.fold(period=best_period,t0=best_t0).flux_err]\n",
    "    phasefoldedlc = [lc.fold(period=best_period,t0=best_t0).phase,lc.fold(period=best_period,t0=best_t0).flux, lc.fold(period=best_period,t0=best_t0).flux_err]\n",
    "\n",
    "    \n",
    "    gs1 = gridspec.GridSpec(3, 3)\n",
    "    gs1.update(left=0.65, right=1.25, wspace=0.25,hspace=0.5)\n",
    "\n",
    "\n",
    "    f = plt.figure(figsize=(10,6))\n",
    "    ax1 = f.add_subplot(gs1[:-1, :])\n",
    "    ax2 = f.add_subplot(gs1[-1, :-1])\n",
    "    ax3 = f.add_subplot(gs1[-1, -1])\n",
    "\n",
    "    \n",
    "    \n",
    "    \n",
    "    \n",
    "    ax1.plot(periodogram.period, periodogram.power, rasterized=True) \n",
    "    plt.xticks(np.arange(0.0, 31.0, 1.0))\n",
    "    ax1.set_title(str(data[d][37:-3]))\n",
    "    ax1.set_xlabel(\"Period (days)\")\n",
    "    ax1.set_xlim(np.min(periodogram.period)-0.5, np.max(periodogram.period)+0.5)\n",
    "    ax1.set_ylabel(\"BLS Power SNR\")\n",
    "    ax1.set_ylim(np.min(periodogram.power)-0.5, np.max(periodogram.power)+0.5)\n",
    "\n",
    "    \n",
    "    ax2.plot(detrended_lc.time,detrended_lc.flux,c='red',markersize=4,marker='.',linestyle='none',zorder=1,label='detrended: windowsize: '+str(window_size)+\", binsize: \"+str(bin_size)+\", Nsig: \"+str(Nsig))\n",
    "    ax2.plot(time,flux,c='grey',marker='.',markersize=4,linestyle='none',zorder=0,label='undetrended')\n",
    "#     ax2.legend(loc='upper right')\n",
    "#     ax2.set_ylim(0.985,1.015)\n",
    "    ax2.set_ylim(np.min(detrended_lc.flux)-spacing, np.max(detrended_lc.flux)+spacing)\n",
    "    ax2.set_xlabel(\"Time (Barycentric JD)\")\n",
    "    ax2.set_ylabel(\"Normalized Flux\") \n",
    "\n",
    "    ax3.plot(detrendedphasefoldedlc[0],detrendedphasefoldedlc[1],c='red',markersize=4,marker='.',linestyle='none',zorder=1,label='detrended: windowsize: '+str(window_size)+\", binsize: \"+str(bin_size)+\", Nsig: \"+str(Nsig))\n",
    "    ax3.plot(phasefoldedlc[0],phasefoldedlc[1],c='grey',marker='.',markersize=4,linestyle='none',zorder=0,label='undetrended')\n",
    "#     ax3.legend(loc='upper right')\n",
    "    ax3.set_xlabel(\"Orbital Phase\")\n",
    "    ax3.set_ylabel(\"Normalized Flux\") \n",
    "#     ax3.set_ylim(0.985,1.015)\n",
    "    ax3.set_ylim(np.min(detrended_lc.flux)-spacing, np.max(detrended_lc.flux)+spacing)\n",
    "    ax3.set_xticks(np.arange(np.min(phasefoldedlc[0]),np.max(phasefoldedlc[0])+0.25,0.25))\n",
    "    gs1.tight_layout(f)\n",
    "\n",
    "    plt.savefig(\"plots/\"+str(data[d][59:-3])+\".png\", dpi=400, rasterized=True,bbox_inches='tight')        \n",
    "    plt.show()    \n",
    "    print( \"\") #adds space between figures"
   ]
  },
  {
   "cell_type": "code",
   "execution_count": 33,
   "metadata": {},
   "outputs": [
    {
     "name": "stdout",
     "output_type": "stream",
     "text": [
      "[ 1  2  3  4  5  6  7  8  9 10]\n"
     ]
    }
   ],
   "source": [
    "x=np.arange(1,11,1)\n",
    "print (x)"
   ]
  },
  {
   "cell_type": "code",
   "execution_count": null,
   "metadata": {},
   "outputs": [],
   "source": []
  }
 ],
 "metadata": {
  "kernelspec": {
   "display_name": "Python [conda env:py3.6]",
   "language": "python",
   "name": "conda-env-py3.6-py"
  },
  "language_info": {
   "codemirror_mode": {
    "name": "ipython",
    "version": 3
   },
   "file_extension": ".py",
   "mimetype": "text/x-python",
   "name": "python",
   "nbconvert_exporter": "python",
   "pygments_lexer": "ipython3",
   "version": "3.6.8"
  }
 },
 "nbformat": 4,
 "nbformat_minor": 2
}
