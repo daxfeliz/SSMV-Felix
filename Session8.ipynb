{
 "cells": [
  {
   "cell_type": "code",
   "execution_count": 2,
   "metadata": {},
   "outputs": [],
   "source": [
    "import glob, os\n",
    "from os import listdir\n",
    "from os.path import isfile, join\n",
    "import fnmatch\n",
    "import matplotlib.pyplot as plt\n",
    "from matplotlib import pylab\n",
    "from pylab import *\n",
    "import numpy as np\n",
    "import pandas as pd\n",
    "import astropy\n",
    "from astropy.stats import BoxLeastSquares\n",
    "import lightkurve as lk\n",
    "import matplotlib.gridspec as gridspec"
   ]
  },
  {
   "cell_type": "code",
   "execution_count": 3,
   "metadata": {},
   "outputs": [
    {
     "name": "stdout",
     "output_type": "stream",
     "text": [
      "number of files:  1\n"
     ]
    }
   ],
   "source": [
    "#------------------------------Finding Downloaded TESS Data Files --------------------------------------\n",
    "# cleanpath = '/Users/felizd/Desktop/Felix/TESSdata/Sector01/curves/clean/' #location of where I put downloaded files\n",
    "cleanpath = '/Users/felizd/Desktop/Felix/TESSdata/Sector03/' #for a specific LC\n",
    "data = [os.path.join(dirpath, f) # an array of path names to be looped over\n",
    "    for dirpath, dirnames, files in os.walk(cleanpath) #recursively searches through directory\n",
    "    for f in fnmatch.filter(files, '*.lc')] #finds every file (*) that ends with .lc\n",
    "\n",
    "print (\"number of files: \",len(data)) #number of files)\n",
    "\n",
    "# for d in range(len(data)):\n",
    "#     print (\"data set #\", d+1 ,\" : \", data[d]) #I added the d+1 because python does zero-indexing (https://en.wikipedia.org/wiki/Zero-based_numbering)\n",
    "#     print (\"\")"
   ]
  },
  {
   "cell_type": "code",
   "execution_count": 4,
   "metadata": {},
   "outputs": [],
   "source": [
    "# Nsig=3; bin_size=5; window_size=201\n",
    "# # for d in range(len(data)): #creating a for loop to show light curve figures for all files\n",
    "# for d in range(3): #creating a for loop to show light curve figures for all files\n",
    "#     time     = np.transpose(np.loadtxt(data[d]))[0] #first  (zero indexing in python) column \n",
    "#     mag      = np.transpose(np.loadtxt(data[d]))[1] #second (zero indexing in python) column \n",
    "#     magerror = np.transpose(np.loadtxt(data[d]))[2] #third (zero indexing in python) column \n",
    "    \n",
    "\n",
    "#     flux = 10.0**(mag/-2.5)/np.mean(10.0**(mag/-2.5))\n",
    "#     fluxerror = flux*(10.0**(magerror/2.5)-1.0)\n",
    "\n",
    "#     lc = lk.LightCurve(time,flux,fluxerror)\n",
    "#     detrended_lc = lc.flatten(window_length=window_size).bin(binsize=bin_size).remove_outliers(sigma=Nsig)\n",
    "#     detrended_lc.plot(c='red',markersize=4,marker='.',linestyle='none',zorder=1,label='detrended: windowsize: '+str(window_size)+\", binsize: \"+str(bin_size)+\", Nsig: \"+str(Nsig));\n",
    "#     plt.plot(time,flux,c='grey',marker='.',markersize=4,linestyle='none',zorder=0,label='undetrended')\n",
    "#     plt.legend(loc='upper right')\n",
    "#     plt.title(str(data[d][37:-3]))\n",
    "#     plt.show()\n",
    "#     print( \"\") #adds space between figures"
   ]
  },
  {
   "cell_type": "code",
   "execution_count": 5,
   "metadata": {},
   "outputs": [],
   "source": [
    "# # print (detrended_lc.time)\n",
    "# plt.plot(time,flux,c='grey',marker='.',markersize=4,linestyle='none',zorder=0,label='undetrended')\n",
    "# plt.plot(detrended_lc.time,detrended_lc.flux,c='red',markersize=4,marker='.',linestyle='none',zorder=1,label='detrended: windowsize: '+str(window_size)+\", binsize: \"+str(bin_size)+\", Nsig: \"+str(Nsig))\n",
    "# plt.legend(loc='upper right')\n",
    "# plt.title(str(data[d][37:-3]))\n",
    "# plt.show()"
   ]
  },
  {
   "cell_type": "code",
   "execution_count": null,
   "metadata": {},
   "outputs": [],
   "source": [
    "# detrended_lc.plot(c='red',markersize=4,marker='.',linestyle='none',zorder=1,label='detrended: windowsize: '+str(window_size)+\", binsize: \"+str(bin_size)+\", Nsig: \"+str(Nsig));\n",
    "# plt.plot(time,flux,c='grey',marker='.',markersize=4,linestyle='none',zorder=0,label='undetrended')\n",
    "# plt.legend(loc='upper right')\n",
    "# plt.title(str(data[d][37:-3]))\n",
    "# plt.show()"
   ]
  },
  {
   "cell_type": "code",
   "execution_count": null,
   "metadata": {},
   "outputs": [],
   "source": [
    "# print (\"run BLS\")\n",
    "# # from astropy.stats import BoxLeastSquares\n",
    "# Nsig=3; bin_size=5; window_size=201\n",
    "# # for d in range(len(data)): #creating a for loop to show light curve figures for all files\n",
    "# for d in range(1): #creating a for loop to show light curve figures for all files\n",
    "#     time     = np.transpose(np.loadtxt(data[d]))[0] #first  (zero indexing in python) column \n",
    "#     mag      = np.transpose(np.loadtxt(data[d]))[1] #second (zero indexing in python) column \n",
    "#     magerror = np.transpose(np.loadtxt(data[d]))[2] #third (zero indexing in python) column \n",
    "    \n",
    "\n",
    "#     flux = 10.0**(mag/-2.5)/np.mean(10.0**(mag/-2.5))\n",
    "#     fluxerror = flux*(10.0**(magerror/2.5)-1.0)\n",
    "\n",
    "#     lc = lk.LightCurve(time,flux,fluxerror)\n",
    "#     detrended_lc = lc.flatten(window_length=window_size).bin(binsize=bin_size).remove_outliers(sigma=Nsig)\n",
    "#     plt.plot(detrended_lc.time,detrended_lc.flux,c='red',markersize=4,marker='.',linestyle='none',zorder=1,label='detrended: windowsize: '+str(window_size)+\", binsize: \"+str(bin_size)+\", Nsig: \"+str(Nsig))\n",
    "#     plt.plot(time,flux,c='grey',marker='.',markersize=4,linestyle='none',zorder=0,label='undetrended')\n",
    "#     plt.legend(loc='upper right')\n",
    "#     plt.title(str(data[d][37:-3]))\n",
    "#     plt.show()\n",
    "    \n",
    "#     bls = BoxLeastSquares(detrended_lc.time, detrended_lc.flux, detrended_lc.flux_err)\n",
    "#     periods = np.arange(0.23, (max(detrended_lc.time)-min(detrended_lc.time)), 0.1)\n",
    "#     durations = np.arange((1.0/24.0), (5.0/24.0), 0.1) #1 hr to 5 hrs\n",
    "#     periodogram = bls.power(periods, durations,objective='snr')\n",
    "#     plt.figure(figsize=(10,6))\n",
    "#     plt.plot(periodogram.period, periodogram.power)\n",
    "#     plt.ylabel(\"Power\")\n",
    "#     plt.xlabel(\"Period [day]\")\n",
    "#     plt.title(str(data[d][37:-3]))\n",
    "#     plt.show()\n",
    "    \n",
    "    \n",
    "    \n",
    "#     best_period = periods[np.argmax(periodogram.power)]\n",
    "#     print('Best Fit Period: {:0.4f} days'.format(best_period))\n",
    "#     phasefoldedlc = [detrended_lc.fold(best_period).time,detrended_lc.fold(best_period).flux, detrended_lc.fold(best_period).flux_err]\n",
    "    \n",
    "# #     detrended_lc.fold(best_fit).plot(c='red',markersize=4,marker='.',linestyle='none')\n",
    "#     plt.plot(phasefoldedlc[0],phasefoldedlc[1],c='red',markersize=4,marker='.',linestyle='none')\n",
    "#     plt.legend(loc='upper right')\n",
    "#     plt.title(str(data[d][37:-3]))\n",
    "#     plt.show()\n",
    "    \n",
    "#     print( \"\") #adds space between figures"
   ]
  },
  {
   "cell_type": "code",
   "execution_count": null,
   "metadata": {},
   "outputs": [],
   "source": [
    "# index = np.argmax(periodogram.power); print(index)\n",
    "# best_period = periodogram.period[index]; print(best_period)\n",
    "# best_t0 = periodogram.transit_time[index]; print(best_t0)\n",
    "# best_duration = periodogram.duration[index];print(best_duration)\n",
    "\n",
    "\n",
    "# # best_period = periods[np.argmax(periodogram.power)]\n",
    "# # print('Best Fit Period: {:0.4f} days'.format(best_period))\n",
    "\n",
    "# # detrended_lc.fold(best_period).plot(c='red',markersize=4,marker='.',linestyle='none')\n",
    "# index = np.argmax(periodogram.power); print(index)\n",
    "# best_period = periodogram.period[index]; print(best_period)\n",
    "# best_t0 = periodogram.transit_time[index]; print(best_t0)\n",
    "# plt.plot(detrended_lc.fold(period=best_period,t0=best_t0).phase,detrended_lc.fold(period=best_period,t0=best_t0).flux,c='red',markersize=4,marker='.',linestyle='none',label='Period: '+str(np.round(best_period,2))+\", TC: \"+str(np.round(best_t0,2)))\n",
    "# plt.legend(loc='upper right')\n",
    "# plt.title(str(data[d][37:-3]))\n",
    "# plt.show()"
   ]
  },
  {
   "cell_type": "code",
   "execution_count": null,
   "metadata": {},
   "outputs": [],
   "source": []
  },
  {
   "cell_type": "code",
   "execution_count": 34,
   "metadata": {},
   "outputs": [
    {
     "name": "stdout",
     "output_type": "stream",
     "text": [
      "54\n",
      "5.630000000000001\n",
      "4.522989666666435\n"
     ]
    },
    {
     "data": {
      "image/png": "[encoded data removed]",
      "text/plain": [
       "<Figure size 720x432 with 3 Axes>"
      ]
     },
     "metadata": {
      "needs_background": "light"
     },
     "output_type": "display_data"
    },
    {
     "name": "stdout",
     "output_type": "stream",
     "text": [
      "\n"
     ]
    }
   ],
   "source": [
    "BLSstepsize=0.1; Nsig=5; bin_size=5; window_size=201\n",
    "# for d in range(10): #creating a for loop to show light curve figures for all files\n",
    "for d in range(len(data)): #creating a for loop to show light curve figures for all files\n",
    "    time     = np.transpose(np.loadtxt(data[d]))[0] #first  (zero indexing in python) column \n",
    "    mag      = np.transpose(np.loadtxt(data[d]))[1] #second (zero indexing in python) column \n",
    "    magerror = np.transpose(np.loadtxt(data[d]))[2] #third (zero indexing in python) column \n",
    "    \n",
    "    flux = 10.0**(mag/-2.5)/np.mean(10.0**(mag/-2.5))\n",
    "    fluxerror = flux*(10.0**(magerror/2.5)-1.0)\n",
    "    \n",
    "    #detrending\n",
    "    lc = lk.LightCurve(time,flux,fluxerror)\n",
    "    detrended_lc = lc.flatten(window_length=window_size).bin(binsize=bin_size).remove_outliers(sigma=Nsig)\n",
    "    \n",
    "    #doing BLS search:\n",
    "    bls = BoxLeastSquares(detrended_lc.time, detrended_lc.flux, detrended_lc.flux_err)\n",
    "    periods = np.arange(0.23, (max(detrended_lc.time)-min(detrended_lc.time)), 0.1)\n",
    "    durations = np.arange((1.0/24.0), (5.0/24.0), 0.1) #1 hr to 5 hrs\n",
    "    periodogram = bls.power(periods, durations,objective='snr')\n",
    "    \n",
    "    #phase folding with best BLS model\n",
    "    index = np.argmax(periodogram.power); print(index)\n",
    "    best_period = periodogram.period[index]; print(best_period)\n",
    "    best_t0 = periodogram.transit_time[index]; print(best_t0)\n",
    "    detrendedphasefoldedlc = [detrended_lc.fold(period=best_period,t0=best_t0).phase,detrended_lc.fold(period=best_period,t0=best_t0).flux, detrended_lc.fold(period=best_period,t0=best_t0).flux_err]\n",
    "    phasefoldedlc = [lc.fold(period=best_period,t0=best_t0).phase,lc.fold(period=best_period,t0=best_t0).flux, lc.fold(period=best_period,t0=best_t0).flux_err]\n",
    "\n",
    "    \n",
    "    gs1 = gridspec.GridSpec(3, 3)\n",
    "    gs1.update(left=0.65, right=1.25, wspace=0.25,hspace=0.5)\n",
    "\n",
    "\n",
    "    f = plt.figure(figsize=(10,6))\n",
    "    ax1 = f.add_subplot(gs1[:-1, :])\n",
    "    ax2 = f.add_subplot(gs1[-1, :-1])\n",
    "    ax3 = f.add_subplot(gs1[-1, -1])\n",
    "\n",
    "    \n",
    "    \n",
    "    \n",
    "    \n",
    "    ax1.plot(periodogram.period, periodogram.power, rasterized=True) \n",
    "    plt.xticks(np.arange(0.0, 31.0, 1.0))\n",
    "    ax1.set_title(str(data[d][46:-3]))\n",
    "    ax1.set_xlabel(\"Period (days)\")\n",
    "    ax1.set_xlim(np.min(periodogram.period)-0.5, np.max(periodogram.period)+0.5)\n",
    "    ax1.set_ylabel(\"BLS Power SNR\")\n",
    "    ax1.set_ylim(np.min(periodogram.power)-0.5, np.max(periodogram.power)+0.5)\n",
    "    ax1.axvline(x=3.36,c='brown',label='TOI 270 b, P=3.36 d')\n",
    "    ax1.axvline(x=5.66,c='g',label='TOI 270 c, P = 5.66 d ')\n",
    "    ax1.axvline(x=11.38,c='r',label='TOI 270 d, P = 11.38 d') \n",
    "    ax1.legend(loc='best',fontsize=12)\n",
    "\n",
    "    \n",
    "    ax2.plot(detrended_lc.time,detrended_lc.flux,c='red',markersize=4,marker='.',linestyle='none',zorder=1,label='detrended: windowsize: '+str(window_size)+\", binsize: \"+str(bin_size)+\", Nsig: \"+str(Nsig))\n",
    "    ax2.plot(time,flux,c='grey',marker='.',markersize=4,linestyle='none',zorder=0,label='undetrended')\n",
    "#     ax2.legend(loc='upper right')\n",
    "    ax2.set_ylim(0.99,1.015)\n",
    "    ax2.set_xlabel(\"Time (BJD)\")\n",
    "    ax2.set_ylabel(\"Normalized Flux\")\n",
    "    ax2.legend(loc='best')\n",
    "\n",
    "    ax3.plot(detrendedphasefoldedlc[0],detrendedphasefoldedlc[1],c='red',markersize=4,marker='.',linestyle='none',zorder=1)#,label='detrended: windowsize: '+str(window_size)+\", binsize: \"+str(bin_size)+\", Nsig: \"+str(Nsig))\n",
    "    ax3.plot(phasefoldedlc[0],phasefoldedlc[1],c='grey',marker='.',markersize=4,linestyle='none',zorder=0)#,label='undetrended')\n",
    "#     ax3.legend(loc='upper right')\n",
    "    ax3.set_xlabel(\"Phase\")\n",
    "    ax3.set_ylabel(\"Normalized Flux\") \n",
    "    ax3.set_ylim(0.99,1.015)\n",
    "    ax3.set_xticks(np.arange(np.min(phasefoldedlc[0]),np.max(phasefoldedlc[0])+0.25,0.25))\n",
    "#     ax3.legend(loc='upper right')\n",
    "    ax3.set_title('TOI 270 c; '+\", P= \"+str(np.round(best_period,3)))\n",
    "    gs1.tight_layout(f)\n",
    "\n",
    "    plt.savefig(\"plots/\"+str(data[d][46:-3])+\".png\", dpi=400, rasterized=True,bbox_inches='tight')        \n",
    "    plt.show()\n",
    "    print (\"\")"
   ]
  },
  {
   "cell_type": "code",
   "execution_count": 23,
   "metadata": {},
   "outputs": [
    {
     "name": "stdout",
     "output_type": "stream",
     "text": [
      "4.523 5.63\n"
     ]
    }
   ],
   "source": [
    "print (str(np.round(best_t0,3)), str(np.round(best_period,3)))"
   ]
  },
  {
   "cell_type": "code",
   "execution_count": 31,
   "metadata": {},
   "outputs": [
    {
     "name": "stdout",
     "output_type": "stream",
     "text": [
      "259377017_sector03_3_4\n"
     ]
    }
   ],
   "source": [
    "print (data[d][46:-3])"
   ]
  },
  {
   "cell_type": "code",
   "execution_count": null,
   "metadata": {},
   "outputs": [],
   "source": []
  }
 ],
 "metadata": {
  "kernelspec": {
   "display_name": "Python [conda env:py3.6]",
   "language": "python",
   "name": "conda-env-py3.6-py"
  },
  "language_info": {
   "codemirror_mode": {
    "name": "ipython",
    "version": 3
   },
   "file_extension": ".py",
   "mimetype": "text/x-python",
   "name": "python",
   "nbconvert_exporter": "python",
   "pygments_lexer": "ipython3",
   "version": "3.6.8"
  }
 },
 "nbformat": 4,
 "nbformat_minor": 2
}
